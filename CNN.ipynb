{
 "cells": [
  {
   "cell_type": "code",
   "execution_count": 1,
   "id": "67eb8444-d6d5-4d60-ba20-9ed1b1bbee7a",
   "metadata": {},
   "outputs": [],
   "source": [
    "# Define paths to the dataset\n",
    "train_dir = r'C:\\Users\\samer\\OneDrive\\Desktop\\train'\n",
    "test_dir = r'C:\\Users\\samer\\OneDrive\\Desktop\\test'"
   ]
  },
  {
   "cell_type": "code",
   "execution_count": 2,
   "id": "390038ac-db5a-4ce5-9888-8b4aa11df677",
   "metadata": {},
   "outputs": [
    {
     "name": "stdout",
     "output_type": "stream",
     "text": [
      "340\n",
      "340\n",
      "60\n",
      "60\n"
     ]
    }
   ],
   "source": [
    "import os\n",
    "\n",
    "train_adults_path = r'C:\\Users\\samer\\OneDrive\\Desktop\\train\\adults'\n",
    "train_children_path = r'C:\\Users\\samer\\OneDrive\\Desktop\\train\\children'\n",
    "test_adults_path = r'C:\\Users\\samer\\OneDrive\\Desktop\\test\\adults'\n",
    "test_children_path = r'C:\\Users\\samer\\OneDrive\\Desktop\\test\\children'\n",
    "\n",
    "print(len(os.listdir(train_adults_path)))\n",
    "print(len(os.listdir(train_children_path)))\n",
    "print(len(os.listdir(test_adults_path)))\n",
    "print(len(os.listdir(test_children_path)))\n"
   ]
  },
  {
   "cell_type": "code",
   "execution_count": 3,
   "id": "cf8866e3-a451-44d8-8bce-3d0475e8c058",
   "metadata": {},
   "outputs": [
    {
     "name": "stdout",
     "output_type": "stream",
     "text": [
      "WARNING:tensorflow:From C:\\Users\\samer\\OneDrive\\Desktop\\python1\\Lib\\site-packages\\keras\\src\\losses.py:2976: The name tf.losses.sparse_softmax_cross_entropy is deprecated. Please use tf.compat.v1.losses.sparse_softmax_cross_entropy instead.\n",
      "\n",
      "Found 476 images belonging to 2 classes.\n",
      "Found 204 images belonging to 2 classes.\n"
     ]
    }
   ],
   "source": [
    "import tensorflow as tf\n",
    "from tensorflow.keras.preprocessing.image import ImageDataGenerator\n",
    "\n",
    "# Create ImageDataGenerator for training set\n",
    "train_datagen = ImageDataGenerator(\n",
    "    rescale=1./255,\n",
    "    validation_split=0.3  # Split 30% of the images for validation\n",
    ")\n",
    "\n",
    "# Load and prepare training data\n",
    "train_data = train_datagen.flow_from_directory(\n",
    "    train_dir,\n",
    "    target_size=(256,256),\n",
    "    batch_size=32,\n",
    "    class_mode='binary',  # 'binary' for binary classification (cats vs. dogs)\n",
    "    subset='training'  # Specify 'training' for the training set\n",
    ")\n",
    "\n",
    "# Create ImageDataGenerator for validation set\n",
    "validation_datagen = ImageDataGenerator(\n",
    "    rescale=1./255,\n",
    "    validation_split=0.3  # Note: Using the same validation split as in the training set\n",
    ")\n",
    "\n",
    "# Load and prepare validation data\n",
    "validation_data = validation_datagen.flow_from_directory(\n",
    "    train_dir,\n",
    "    target_size=(256,256),\n",
    "    batch_size=32,\n",
    "    class_mode='binary',\n",
    "    subset='validation'  # Specify 'validation' for the validation set\n",
    ")"
   ]
  },
  {
   "cell_type": "code",
   "execution_count": 4,
   "id": "e13bebf7-5e66-4859-a3eb-dca6d2909235",
   "metadata": {},
   "outputs": [],
   "source": [
    "from tensorflow import keras\n",
    "from keras import Sequential\n",
    "from keras.layers import Dense,Conv2D,MaxPooling2D,Flatten,BatchNormalization,UpSampling2D, Dropout"
   ]
  },
  {
   "cell_type": "code",
   "execution_count": 5,
   "id": "a1f6ea92-5c16-4f55-ab7f-23c8a1523164",
   "metadata": {},
   "outputs": [
    {
     "name": "stdout",
     "output_type": "stream",
     "text": [
      "WARNING:tensorflow:From C:\\Users\\samer\\OneDrive\\Desktop\\python1\\Lib\\site-packages\\keras\\src\\backend.py:873: The name tf.get_default_graph is deprecated. Please use tf.compat.v1.get_default_graph instead.\n",
      "\n",
      "WARNING:tensorflow:From C:\\Users\\samer\\OneDrive\\Desktop\\python1\\Lib\\site-packages\\keras\\src\\layers\\pooling\\max_pooling2d.py:161: The name tf.nn.max_pool is deprecated. Please use tf.nn.max_pool2d instead.\n",
      "\n"
     ]
    }
   ],
   "source": [
    "# create CNN model\n",
    "\n",
    "model = Sequential()\n",
    "\n",
    "model.add(Conv2D(32,kernel_size=(3,3),padding='valid',activation='relu',input_shape=(256,256,3)))  # 32 filters\n",
    "#model.add(BatchNormalization())  # added to reduce overfitting\n",
    "model.add(MaxPooling2D(pool_size=(2,2),strides=2,padding='valid'))\n",
    "\n",
    "model.add(Conv2D(64,kernel_size=(3,3),padding='valid',activation='relu'))\n",
    "#model.add(BatchNormalization())  # added to reduce overfitting\n",
    "model.add(MaxPooling2D(pool_size=(2,2),strides=2,padding='valid'))\n",
    "\n",
    "model.add(Conv2D(128,kernel_size=(3,3),padding='valid',activation='relu'))\n",
    "#model.add(BatchNormalization())  # added to reduce overfitting\n",
    "model.add(MaxPooling2D(pool_size=(2,2),strides=2,padding='valid'))\n",
    "\n",
    "model.add(Conv2D(256,kernel_size=(3,3),padding='valid',activation='relu'))\n",
    "#model.add(BatchNormalization())  # added to reduce overfitting\n",
    "model.add(MaxPooling2D(pool_size=(2,2),strides=2,padding='valid'))\n",
    "\n",
    "model.add(Flatten())\n",
    "\n",
    "model.add(Dense(128,activation='relu')) #feature reduction\n",
    "#model.add(Dropout(0.1))  # added to reduce overfitting\n",
    "model.add(Dense(64,activation='relu'))\n",
    "#model.add(Dropout(0.1))  # added to reduce overfitting\n",
    "model.add(Dense(1,activation='sigmoid'))  #output layer"
   ]
  },
  {
   "cell_type": "code",
   "execution_count": 6,
   "id": "fae1c30c-68ba-4514-b5d3-28649588235b",
   "metadata": {},
   "outputs": [],
   "source": [
    "from keras.optimizers import Adam\n",
    "model.compile(optimizer=Adam(learning_rate=0.001),loss='binary_crossentropy',metrics=['accuracy']) #binary_crossentropy - binary classification"
   ]
  },
  {
   "cell_type": "code",
   "execution_count": 7,
   "id": "56e8d1c1-7334-426e-a501-9f9026879cd8",
   "metadata": {},
   "outputs": [
    {
     "name": "stdout",
     "output_type": "stream",
     "text": [
      "Epoch 1/8\n",
      "WARNING:tensorflow:From C:\\Users\\samer\\OneDrive\\Desktop\\python1\\Lib\\site-packages\\keras\\src\\utils\\tf_utils.py:492: The name tf.ragged.RaggedTensorValue is deprecated. Please use tf.compat.v1.ragged.RaggedTensorValue instead.\n",
      "\n",
      "WARNING:tensorflow:From C:\\Users\\samer\\OneDrive\\Desktop\\python1\\Lib\\site-packages\\keras\\src\\engine\\base_layer_utils.py:384: The name tf.executing_eagerly_outside_functions is deprecated. Please use tf.compat.v1.executing_eagerly_outside_functions instead.\n",
      "\n",
      "15/15 [==============================] - 17s 1s/step - loss: 0.7286 - accuracy: 0.4958 - val_loss: 0.6870 - val_accuracy: 0.5000\n",
      "Epoch 2/8\n",
      "15/15 [==============================] - 14s 946ms/step - loss: 0.6872 - accuracy: 0.5294 - val_loss: 0.6969 - val_accuracy: 0.5000\n",
      "Epoch 3/8\n",
      "15/15 [==============================] - 15s 1s/step - loss: 0.6845 - accuracy: 0.5189 - val_loss: 0.7178 - val_accuracy: 0.5000\n",
      "Epoch 4/8\n",
      "15/15 [==============================] - 14s 952ms/step - loss: 0.6639 - accuracy: 0.6239 - val_loss: 0.7606 - val_accuracy: 0.5000\n",
      "Epoch 5/8\n",
      "15/15 [==============================] - 15s 1s/step - loss: 0.6451 - accuracy: 0.6387 - val_loss: 0.6897 - val_accuracy: 0.5490\n",
      "Epoch 6/8\n",
      "15/15 [==============================] - 14s 925ms/step - loss: 0.5913 - accuracy: 0.6723 - val_loss: 0.8685 - val_accuracy: 0.5686\n",
      "Epoch 7/8\n",
      "15/15 [==============================] - 15s 992ms/step - loss: 0.5589 - accuracy: 0.6975 - val_loss: 0.7427 - val_accuracy: 0.5539\n",
      "Epoch 8/8\n",
      "15/15 [==============================] - 15s 975ms/step - loss: 0.4702 - accuracy: 0.7668 - val_loss: 0.9994 - val_accuracy: 0.5833\n"
     ]
    }
   ],
   "source": [
    "history = model.fit(train_data, epochs=8, validation_data=validation_data)"
   ]
  },
  {
   "cell_type": "code",
   "execution_count": 8,
   "id": "f148c59d-2c3f-45b2-869f-72e9db0560ab",
   "metadata": {},
   "outputs": [
    {
     "data": {
      "image/png": "[encoded data removed]",
      "text/plain": [
       "<Figure size 640x480 with 1 Axes>"
      ]
     },
     "metadata": {},
     "output_type": "display_data"
    }
   ],
   "source": [
    "import matplotlib.pyplot as plt\n",
    "\n",
    "plt.plot(history.history['accuracy'],color='red',label='train')\n",
    "plt.plot(history.history['val_accuracy'],color='blue',label='validation')\n",
    "plt.legend()\n",
    "plt.show()"
   ]
  },
  {
   "cell_type": "code",
   "execution_count": 9,
   "id": "21461522-11cc-4a63-8013-c237695f437a",
   "metadata": {},
   "outputs": [
    {
     "data": {
      "image/png": "[encoded data removed]",
      "text/plain": [
       "<Figure size 640x480 with 1 Axes>"
      ]
     },
     "metadata": {},
     "output_type": "display_data"
    }
   ],
   "source": [
    "plt.plot(history.history['loss'],color='red',label='train')\n",
    "plt.plot(history.history['val_loss'],color='blue',label='validation')\n",
    "plt.legend()\n",
    "plt.show()"
   ]
  },
  {
   "cell_type": "code",
   "execution_count": 10,
   "id": "2520ff87-bc7c-44be-b99e-521c0a27f41e",
   "metadata": {},
   "outputs": [
    {
     "name": "stdout",
     "output_type": "stream",
     "text": [
      "Found 120 images belonging to 2 classes.\n"
     ]
    }
   ],
   "source": [
    "test_datagen = ImageDataGenerator(rescale=1./255)\n",
    "test_data = test_datagen.flow_from_directory(\n",
    "    test_dir,\n",
    "    target_size=(256,256),\n",
    "    batch_size=32,\n",
    "    class_mode='binary'\n",
    ")"
   ]
  },
  {
   "cell_type": "code",
   "execution_count": 11,
   "id": "987709e4-b651-47e3-9e13-fe8c1298a881",
   "metadata": {},
   "outputs": [
    {
     "name": "stdout",
     "output_type": "stream",
     "text": [
      "4/4 [==============================] - 1s 201ms/step\n",
      "[[0.07357318]\n",
      " [0.0989605 ]\n",
      " [0.45552373]\n",
      " [0.4106033 ]\n",
      " [0.27815825]\n",
      " [0.5303348 ]\n",
      " [0.31006053]\n",
      " [0.89855456]\n",
      " [0.10018092]\n",
      " [0.0335077 ]\n",
      " [0.99619764]\n",
      " [0.02277143]\n",
      " [0.03978346]\n",
      " [0.42516083]\n",
      " [0.91187245]\n",
      " [0.42504114]\n",
      " [0.99818385]\n",
      " [0.46228632]\n",
      " [0.97972256]\n",
      " [0.25190523]\n",
      " [0.65489954]\n",
      " [0.04038841]\n",
      " [0.31328136]\n",
      " [0.999471  ]\n",
      " [0.00981626]\n",
      " [0.9996846 ]\n",
      " [0.10151093]\n",
      " [0.06724804]\n",
      " [0.87515765]\n",
      " [0.99831116]\n",
      " [0.3248974 ]\n",
      " [0.15145639]\n",
      " [0.32685956]\n",
      " [0.53663   ]\n",
      " [0.5516938 ]\n",
      " [0.10627294]\n",
      " [0.86511475]\n",
      " [0.10932872]\n",
      " [0.09106844]\n",
      " [0.3905771 ]\n",
      " [0.58802176]\n",
      " [0.39540365]\n",
      " [0.07063658]\n",
      " [0.15656053]\n",
      " [0.71950763]\n",
      " [0.04707265]\n",
      " [0.01858346]\n",
      " [0.7034117 ]\n",
      " [0.0376565 ]\n",
      " [0.05566785]\n",
      " [0.03955606]\n",
      " [0.9029757 ]\n",
      " [0.91319454]\n",
      " [0.10489324]\n",
      " [0.06780996]\n",
      " [0.69055676]\n",
      " [0.08793867]\n",
      " [0.9287524 ]\n",
      " [0.07854371]\n",
      " [0.38522428]\n",
      " [0.160032  ]\n",
      " [0.10646621]\n",
      " [0.58534384]\n",
      " [0.21880224]\n",
      " [0.07153813]\n",
      " [0.49673307]\n",
      " [0.22934519]\n",
      " [0.51171696]\n",
      " [0.709685  ]\n",
      " [0.2345147 ]\n",
      " [0.08770954]\n",
      " [0.29899997]\n",
      " [0.01155678]\n",
      " [0.3428523 ]\n",
      " [0.02751282]\n",
      " [0.1447245 ]\n",
      " [0.34079608]\n",
      " [0.9999338 ]\n",
      " [0.67420167]\n",
      " [0.042636  ]\n",
      " [0.10745353]\n",
      " [0.1687124 ]\n",
      " [0.96717066]\n",
      " [0.03616587]\n",
      " [0.9935171 ]\n",
      " [0.0523552 ]\n",
      " [0.34105018]\n",
      " [0.4091608 ]\n",
      " [0.54193926]\n",
      " [0.0224446 ]\n",
      " [0.5282382 ]\n",
      " [0.0702823 ]\n",
      " [0.08435722]\n",
      " [0.24034202]\n",
      " [0.0014664 ]\n",
      " [0.4927312 ]\n",
      " [0.19809799]\n",
      " [0.74584025]\n",
      " [0.45916033]\n",
      " [0.12769803]\n",
      " [0.12236589]\n",
      " [0.5127707 ]\n",
      " [0.7849197 ]\n",
      " [0.10195454]\n",
      " [0.2867899 ]\n",
      " [0.37796092]\n",
      " [0.99993557]\n",
      " [0.27334198]\n",
      " [0.0447393 ]\n",
      " [0.20749463]\n",
      " [0.31447214]\n",
      " [0.7854254 ]\n",
      " [0.05823985]\n",
      " [0.6935414 ]\n",
      " [0.99777365]\n",
      " [0.11720709]\n",
      " [0.9052459 ]\n",
      " [0.12964565]\n",
      " [0.08214451]\n",
      " [0.908454  ]]\n"
     ]
    }
   ],
   "source": [
    "#predict the test data\n",
    "predictions = model.predict(test_data)\n",
    "print(predictions)"
   ]
  },
  {
   "cell_type": "code",
   "execution_count": 12,
   "id": "c2c14f46-cc30-49b1-a729-9d911e75d718",
   "metadata": {},
   "outputs": [
    {
     "data": {
      "text/plain": [
       "120"
      ]
     },
     "execution_count": 12,
     "metadata": {},
     "output_type": "execute_result"
    }
   ],
   "source": [
    "len(predictions)"
   ]
  },
  {
   "cell_type": "code",
   "execution_count": 13,
   "id": "32afe9a8-209e-4c42-8db1-2b8874fe0593",
   "metadata": {},
   "outputs": [
    {
     "name": "stdout",
     "output_type": "stream",
     "text": [
      "Confusion Matrix:\n",
      "[[39 21]\n",
      " [42 18]]\n",
      "Classification Report:\n",
      "              precision    recall  f1-score   support\n",
      "\n",
      "           0       0.48      0.65      0.55        60\n",
      "           1       0.46      0.30      0.36        60\n",
      "\n",
      "    accuracy                           0.48       120\n",
      "   macro avg       0.47      0.47      0.46       120\n",
      "weighted avg       0.47      0.47      0.46       120\n",
      "\n"
     ]
    }
   ],
   "source": [
    "from sklearn.metrics import confusion_matrix, classification_report\n",
    "\n",
    "# Assuming you have ground truth labels (true_labels) and predicted labels (predictions)\n",
    "true_labels = test_data.classes\n",
    "predicted_labels = (predictions > 0.5).astype(int)  # Adjust the threshold as needed\n",
    "\n",
    "# Calculate confusion matrix\n",
    "cm = confusion_matrix(true_labels, predicted_labels)\n",
    "\n",
    "# Print confusion matrix\n",
    "print(\"Confusion Matrix:\")\n",
    "print(cm)\n",
    "\n",
    "# Print classification report\n",
    "print(\"Classification Report:\")\n",
    "print(classification_report(true_labels, predicted_labels))"
   ]
  },
  {
   "cell_type": "code",
   "execution_count": null,
   "id": "f85076fd-e395-4900-96a5-f69160a72661",
   "metadata": {},
   "outputs": [],
   "source": []
  }
 ],
 "metadata": {
  "kernelspec": {
   "display_name": "Python 3 (ipykernel)",
   "language": "python",
   "name": "python3"
  },
  "language_info": {
   "codemirror_mode": {
    "name": "ipython",
    "version": 3
   },
   "file_extension": ".py",
   "mimetype": "text/x-python",
   "name": "python",
   "nbconvert_exporter": "python",
   "pygments_lexer": "ipython3",
   "version": "3.11.3"
  }
 },
 "nbformat": 4,
 "nbformat_minor": 5
}
