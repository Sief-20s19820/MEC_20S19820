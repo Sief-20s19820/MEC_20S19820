{
 "cells": [
  {
   "cell_type": "code",
   "execution_count": 1,
   "id": "15c39e6c-7dd1-4028-8339-9a0b0c70a057",
   "metadata": {},
   "outputs": [],
   "source": [
    "# Define paths to the dataset\n",
    "train_dir = r'C:\\Users\\samer\\OneDrive\\Desktop\\train'\n",
    "test_dir = r'C:\\Users\\samer\\OneDrive\\Desktop\\test'"
   ]
  },
  {
   "cell_type": "code",
   "execution_count": 2,
   "id": "20b9eec2-b068-45d1-ad43-659a304b4e5b",
   "metadata": {},
   "outputs": [
    {
     "name": "stdout",
     "output_type": "stream",
     "text": [
      "340\n",
      "340\n",
      "60\n",
      "60\n"
     ]
    }
   ],
   "source": [
    "import os\n",
    "\n",
    "train_adults_path = r'C:\\Users\\samer\\OneDrive\\Desktop\\train\\adults'\n",
    "train_children_path = r'C:\\Users\\samer\\OneDrive\\Desktop\\train\\children'\n",
    "test_adults_path = r'C:\\Users\\samer\\OneDrive\\Desktop\\test\\adults'\n",
    "test_children_path = r'C:\\Users\\samer\\OneDrive\\Desktop\\test\\children'\n",
    "\n",
    "print(len(os.listdir(train_adults_path)))\n",
    "print(len(os.listdir(train_children_path)))\n",
    "print(len(os.listdir(test_adults_path)))\n",
    "print(len(os.listdir(test_children_path)))\n"
   ]
  },
  {
   "cell_type": "code",
   "execution_count": 3,
   "id": "138188d5-5328-45bd-b47f-f2071666f1a0",
   "metadata": {},
   "outputs": [
    {
     "name": "stdout",
     "output_type": "stream",
     "text": [
      "WARNING:tensorflow:From C:\\Users\\samer\\OneDrive\\Desktop\\python1\\Lib\\site-packages\\keras\\src\\losses.py:2976: The name tf.losses.sparse_softmax_cross_entropy is deprecated. Please use tf.compat.v1.losses.sparse_softmax_cross_entropy instead.\n",
      "\n",
      "Found 476 images belonging to 2 classes.\n",
      "Found 204 images belonging to 2 classes.\n"
     ]
    }
   ],
   "source": [
    "import tensorflow as tf\n",
    "from tensorflow.keras.preprocessing.image import ImageDataGenerator\n",
    "\n",
    "# Create ImageDataGenerator for training set\n",
    "train_datagen = ImageDataGenerator(\n",
    "    rescale=1./255,\n",
    "    validation_split=0.3  # Split 20% of the images for validation\n",
    ")\n",
    "\n",
    "# Load and prepare training data\n",
    "train_data = train_datagen.flow_from_directory(\n",
    "    train_dir,\n",
    "    target_size=(256,256),\n",
    "    batch_size=32,\n",
    "    class_mode='binary',  # 'binary' for binary classification (cats vs. dogs)\n",
    "    subset='training'  # Specify 'training' for the training set\n",
    ")\n",
    "\n",
    "# Create ImageDataGenerator for validation set\n",
    "validation_datagen = ImageDataGenerator(\n",
    "    rescale=1./255,\n",
    "    validation_split=0.3  # Note: Using the same validation split as in the training set\n",
    ")\n",
    "\n",
    "# Load and prepare validation data\n",
    "validation_data = validation_datagen.flow_from_directory(\n",
    "    train_dir,\n",
    "    target_size=(256,256),\n",
    "    batch_size=32,\n",
    "    class_mode='binary',\n",
    "    subset='validation'  # Specify 'validation' for the validation set\n",
    ")"
   ]
  },
  {
   "cell_type": "code",
   "execution_count": 4,
   "id": "77a7fcfc-0715-4a07-9d60-8b94b146d610",
   "metadata": {},
   "outputs": [
    {
     "name": "stdout",
     "output_type": "stream",
     "text": [
      "WARNING:tensorflow:From C:\\Users\\samer\\OneDrive\\Desktop\\python1\\Lib\\site-packages\\keras\\src\\backend.py:873: The name tf.get_default_graph is deprecated. Please use tf.compat.v1.get_default_graph instead.\n",
      "\n",
      "WARNING:tensorflow:From C:\\Users\\samer\\OneDrive\\Desktop\\python1\\Lib\\site-packages\\keras\\src\\layers\\normalization\\batch_normalization.py:979: The name tf.nn.fused_batch_norm is deprecated. Please use tf.compat.v1.nn.fused_batch_norm instead.\n",
      "\n"
     ]
    }
   ],
   "source": [
    "from tensorflow import keras\n",
    "from keras import Sequential\n",
    "from keras.layers import Dense,Conv2D,MaxPooling2D,Flatten\n",
    "\n",
    "resnet_model = Sequential()    #ResNet50 is a pre-trained model\n",
    "pretrained_model = tf.keras.applications.ResNet50(include_top = False, #because i have my own image of a diff dimension\n",
    "                                                input_shape = (256,256,3),\n",
    "                                                pooling = 'max', classes = 2,\n",
    "                                                weights = 'imagenet')\n",
    "for layer in pretrained_model.layers:\n",
    "    layer.trainable = False  #all layers in the Resnet50 is not trainable; keep those weights; I am going to add my own i/p and other layers\n",
    "\n",
    "resnet_model.add(pretrained_model)\n",
    "resnet_model.add(Flatten())\n",
    "resnet_model.add(Dense(512, activation = 'relu'))\n",
    "resnet_model.add(Dense(1, activation = 'sigmoid'))"
   ]
  },
  {
   "cell_type": "code",
   "execution_count": 5,
   "id": "c9f5b366-b280-44d6-8c2e-496a4386ba26",
   "metadata": {},
   "outputs": [
    {
     "name": "stdout",
     "output_type": "stream",
     "text": [
      "Model: \"sequential\"\n",
      "_________________________________________________________________\n",
      " Layer (type)                Output Shape              Param #   \n",
      "=================================================================\n",
      " resnet50 (Functional)       (None, 2048)              23587712  \n",
      "                                                                 \n",
      " flatten (Flatten)           (None, 2048)              0         \n",
      "                                                                 \n",
      " dense (Dense)               (None, 512)               1049088   \n",
      "                                                                 \n",
      " dense_1 (Dense)             (None, 1)                 513       \n",
      "                                                                 \n",
      "=================================================================\n",
      "Total params: 24637313 (93.98 MB)\n",
      "Trainable params: 1049601 (4.00 MB)\n",
      "Non-trainable params: 23587712 (89.98 MB)\n",
      "_________________________________________________________________\n"
     ]
    }
   ],
   "source": [
    "resnet_model.summary()"
   ]
  },
  {
   "cell_type": "code",
   "execution_count": 6,
   "id": "2fbf57ac-9725-4ab4-b011-799966b62219",
   "metadata": {},
   "outputs": [],
   "source": [
    "from keras.optimizers import Adam\n",
    "resnet_model.compile(optimizer=Adam(learning_rate=0.002),loss='binary_crossentropy',metrics=['accuracy']) #binary_crossentropy - binary classification"
   ]
  },
  {
   "cell_type": "code",
   "execution_count": 7,
   "id": "e6d61146-da61-4227-ad77-5c828eb7d52f",
   "metadata": {},
   "outputs": [
    {
     "name": "stdout",
     "output_type": "stream",
     "text": [
      "Epoch 1/6\n",
      "WARNING:tensorflow:From C:\\Users\\samer\\OneDrive\\Desktop\\python1\\Lib\\site-packages\\keras\\src\\utils\\tf_utils.py:492: The name tf.ragged.RaggedTensorValue is deprecated. Please use tf.compat.v1.ragged.RaggedTensorValue instead.\n",
      "\n",
      "WARNING:tensorflow:From C:\\Users\\samer\\OneDrive\\Desktop\\python1\\Lib\\site-packages\\keras\\src\\engine\\base_layer_utils.py:384: The name tf.executing_eagerly_outside_functions is deprecated. Please use tf.compat.v1.executing_eagerly_outside_functions instead.\n",
      "\n",
      "15/15 [==============================] - 37s 2s/step - loss: 7.0030 - accuracy: 0.5084 - val_loss: 3.0966 - val_accuracy: 0.5000\n",
      "Epoch 2/6\n",
      "15/15 [==============================] - 31s 2s/step - loss: 1.4992 - accuracy: 0.5168 - val_loss: 1.4112 - val_accuracy: 0.5000\n",
      "Epoch 3/6\n",
      "15/15 [==============================] - 32s 2s/step - loss: 0.9742 - accuracy: 0.5105 - val_loss: 0.7754 - val_accuracy: 0.5000\n",
      "Epoch 4/6\n",
      "15/15 [==============================] - 30s 2s/step - loss: 0.6695 - accuracy: 0.6050 - val_loss: 0.6859 - val_accuracy: 0.5637\n",
      "Epoch 5/6\n",
      "15/15 [==============================] - 29s 2s/step - loss: 0.6296 - accuracy: 0.6239 - val_loss: 0.7633 - val_accuracy: 0.5000\n",
      "Epoch 6/6\n",
      "15/15 [==============================] - 29s 2s/step - loss: 0.6093 - accuracy: 0.6723 - val_loss: 0.6680 - val_accuracy: 0.5882\n"
     ]
    }
   ],
   "source": [
    "history = resnet_model.fit(train_data, epochs=6, validation_data=validation_data)"
   ]
  },
  {
   "cell_type": "code",
   "execution_count": 8,
   "id": "e512fcd2-a3fc-4858-9975-2d3a2faa4355",
   "metadata": {},
   "outputs": [
    {
     "data": {
      "image/png": "[encoded data removed]",
      "text/plain": [
       "<Figure size 640x480 with 1 Axes>"
      ]
     },
     "metadata": {},
     "output_type": "display_data"
    }
   ],
   "source": [
    "import matplotlib.pyplot as plt\n",
    "\n",
    "plt.plot(history.history['accuracy'],color='red',label='train')\n",
    "plt.plot(history.history['val_accuracy'],color='blue',label='validation')\n",
    "plt.legend()\n",
    "plt.show()"
   ]
  },
  {
   "cell_type": "code",
   "execution_count": 9,
   "id": "2fd7d2b5-1d81-4899-94a1-d081107083d0",
   "metadata": {},
   "outputs": [
    {
     "data": {
      "image/png": "[encoded data removed]",
      "text/plain": [
       "<Figure size 640x480 with 1 Axes>"
      ]
     },
     "metadata": {},
     "output_type": "display_data"
    }
   ],
   "source": [
    "plt.plot(history.history['loss'],color='red',label='train')\n",
    "plt.plot(history.history['val_loss'],color='blue',label='validation')\n",
    "plt.legend()\n",
    "plt.show()"
   ]
  },
  {
   "cell_type": "code",
   "execution_count": 10,
   "id": "77662903-8887-4274-9ab3-c75d36120757",
   "metadata": {},
   "outputs": [
    {
     "name": "stdout",
     "output_type": "stream",
     "text": [
      "Found 120 images belonging to 2 classes.\n"
     ]
    }
   ],
   "source": [
    "test_datagen = ImageDataGenerator(rescale=1./255)\n",
    "test_data = test_datagen.flow_from_directory(\n",
    "    test_dir,\n",
    "    target_size=(256,256),\n",
    "    batch_size=32,\n",
    "    class_mode='binary'\n",
    ")"
   ]
  },
  {
   "cell_type": "code",
   "execution_count": 11,
   "id": "899b01d4-d977-46c8-b375-0fecdf7558f8",
   "metadata": {},
   "outputs": [
    {
     "name": "stdout",
     "output_type": "stream",
     "text": [
      "4/4 [==============================] - 7s 1s/step\n",
      "[[0.1798235 ]\n",
      " [0.39421836]\n",
      " [0.5406665 ]\n",
      " [0.33044666]\n",
      " [0.49677175]\n",
      " [0.4242947 ]\n",
      " [0.5169025 ]\n",
      " [0.47904226]\n",
      " [0.59126955]\n",
      " [0.5163934 ]\n",
      " [0.32644415]\n",
      " [0.49894562]\n",
      " [0.26851636]\n",
      " [0.5761788 ]\n",
      " [0.5558008 ]\n",
      " [0.60731554]\n",
      " [0.51255924]\n",
      " [0.5006187 ]\n",
      " [0.53506553]\n",
      " [0.42165405]\n",
      " [0.13866264]\n",
      " [0.47107017]\n",
      " [0.52280015]\n",
      " [0.615207  ]\n",
      " [0.43583837]\n",
      " [0.58162534]\n",
      " [0.5937713 ]\n",
      " [0.5374326 ]\n",
      " [0.47081465]\n",
      " [0.5630745 ]\n",
      " [0.50874376]\n",
      " [0.39268836]\n",
      " [0.5373881 ]\n",
      " [0.46823353]\n",
      " [0.769128  ]\n",
      " [0.52725244]\n",
      " [0.3969578 ]\n",
      " [0.48210087]\n",
      " [0.56031257]\n",
      " [0.41348502]\n",
      " [0.43290317]\n",
      " [0.3462155 ]\n",
      " [0.02536787]\n",
      " [0.56877446]\n",
      " [0.3735203 ]\n",
      " [0.65147144]\n",
      " [0.39566875]\n",
      " [0.10905647]\n",
      " [0.4940486 ]\n",
      " [0.37786987]\n",
      " [0.536553  ]\n",
      " [0.44939512]\n",
      " [0.45154575]\n",
      " [0.5748415 ]\n",
      " [0.50509596]\n",
      " [0.6327504 ]\n",
      " [0.62095475]\n",
      " [0.34184033]\n",
      " [0.22418734]\n",
      " [0.4738839 ]\n",
      " [0.55533135]\n",
      " [0.45573407]\n",
      " [0.45928445]\n",
      " [0.5245916 ]\n",
      " [0.42031038]\n",
      " [0.283571  ]\n",
      " [0.3005373 ]\n",
      " [0.5133522 ]\n",
      " [0.67650104]\n",
      " [0.32939002]\n",
      " [0.5213898 ]\n",
      " [0.60589963]\n",
      " [0.6415953 ]\n",
      " [0.5060802 ]\n",
      " [0.75837475]\n",
      " [0.19804263]\n",
      " [0.60659045]\n",
      " [0.62224704]\n",
      " [0.56104136]\n",
      " [0.6505992 ]\n",
      " [0.59732383]\n",
      " [0.61261225]\n",
      " [0.5494791 ]\n",
      " [0.44997957]\n",
      " [0.6008709 ]\n",
      " [0.66532725]\n",
      " [0.2404752 ]\n",
      " [0.4093049 ]\n",
      " [0.5532973 ]\n",
      " [0.3343141 ]\n",
      " [0.45955026]\n",
      " [0.5182552 ]\n",
      " [0.54657793]\n",
      " [0.49222064]\n",
      " [0.59954435]\n",
      " [0.53120863]\n",
      " [0.24029641]\n",
      " [0.4574431 ]\n",
      " [0.6525733 ]\n",
      " [0.61897427]\n",
      " [0.5896121 ]\n",
      " [0.34583634]\n",
      " [0.4393549 ]\n",
      " [0.6474973 ]\n",
      " [0.67393774]\n",
      " [0.41213626]\n",
      " [0.33781058]\n",
      " [0.4061578 ]\n",
      " [0.5384276 ]\n",
      " [0.26616377]\n",
      " [0.03072177]\n",
      " [0.46181896]\n",
      " [0.6425754 ]\n",
      " [0.3962539 ]\n",
      " [0.28767875]\n",
      " [0.584482  ]\n",
      " [0.46376488]\n",
      " [0.7026754 ]\n",
      " [0.32793862]\n",
      " [0.4279667 ]]\n"
     ]
    }
   ],
   "source": [
    "#predict the test data\n",
    "predictions = resnet_model.predict(test_data)\n",
    "print(predictions)"
   ]
  },
  {
   "cell_type": "code",
   "execution_count": 12,
   "id": "b40b32e4-9c2b-4692-8923-d2fe86768d21",
   "metadata": {},
   "outputs": [
    {
     "name": "stdout",
     "output_type": "stream",
     "text": [
      "Confusion Matrix:\n",
      "[[32 28]\n",
      " [28 32]]\n",
      "Classification Report:\n",
      "              precision    recall  f1-score   support\n",
      "\n",
      "           0       0.53      0.53      0.53        60\n",
      "           1       0.53      0.53      0.53        60\n",
      "\n",
      "    accuracy                           0.53       120\n",
      "   macro avg       0.53      0.53      0.53       120\n",
      "weighted avg       0.53      0.53      0.53       120\n",
      "\n"
     ]
    }
   ],
   "source": [
    "from sklearn.metrics import confusion_matrix, classification_report\n",
    "\n",
    "# Assuming you have ground truth labels (true_labels) and predicted labels (predictions)\n",
    "true_labels = test_data.classes\n",
    "predicted_labels = (predictions > 0.5).astype(int)  # Adjust the threshold as needed\n",
    "\n",
    "# Calculate confusion matrix\n",
    "cm = confusion_matrix(true_labels, predicted_labels)\n",
    "\n",
    "# Print confusion matrix\n",
    "print(\"Confusion Matrix:\")\n",
    "print(cm)\n",
    "\n",
    "# Print classification report\n",
    "print(\"Classification Report:\")\n",
    "print(classification_report(true_labels, predicted_labels))"
   ]
  },
  {
   "cell_type": "code",
   "execution_count": null,
   "id": "c4f91dda-7ab7-468b-9e02-dbfda71fb6aa",
   "metadata": {},
   "outputs": [],
   "source": []
  }
 ],
 "metadata": {
  "kernelspec": {
   "display_name": "Python 3 (ipykernel)",
   "language": "python",
   "name": "python3"
  },
  "language_info": {
   "codemirror_mode": {
    "name": "ipython",
    "version": 3
   },
   "file_extension": ".py",
   "mimetype": "text/x-python",
   "name": "python",
   "nbconvert_exporter": "python",
   "pygments_lexer": "ipython3",
   "version": "3.11.3"
  }
 },
 "nbformat": 4,
 "nbformat_minor": 5
}
